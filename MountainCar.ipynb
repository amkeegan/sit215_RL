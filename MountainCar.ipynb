{
 "cells": [
  {
   "cell_type": "code",
   "execution_count": 18,
   "metadata": {},
   "outputs": [],
   "source": [
    "# Three functions to round decimals to either one tenth, hundredth or thousandth\n",
    "def tenth_round(x):\n",
    "    return round(x*10)/10\n",
    "def hund_round(x):\n",
    "    return round(x*100)/100\n",
    "def thou_round(x):\n",
    "    return round(x*1000)/1000\n",
    "\n",
    "# State_dict is a dictionary of all possible states within the environment\n",
    "# Based on fidelity set below, this equates to 285 states\n",
    "state_dict = {}\n",
    "state_dict[0]=[0,0]\n",
    "for i in range(0,285):\n",
    "    state_dict[i]=[0,0]\n",
    "\n",
    "# Build the state dictionary.\n",
    "counter = 0\n",
    "i_div = -1.20\n",
    "# 19 divisions between -1.20 and 0.6, in 0.1 increments (Car Position)\n",
    "for i in range(19):\n",
    "    if (i_div == 0.8):\n",
    "        i_div = -1.2\n",
    "    j_div = -0.07\n",
    "    # 15 divisions between -0.07 and 0.07 in 0.01 increments (Car Speed)\n",
    "    for j in range(15):\n",
    "        if (j_div == 0.08):\n",
    "            j_div = -0.07\n",
    "        # Store values in the dictionary index\n",
    "        state_dict[counter] = [tenth_round(i_div),hund_round(j_div)]\n",
    "        #print(\"State {}: {}\".format(counter, state_dict[counter]))\n",
    "        counter += 1\n",
    "                 \n",
    "        j_div += 0.01\n",
    "        \n",
    "    i_div += 0.1    \n",
    "\n",
    "# Method to find a state within the state_dict\n",
    "# Assumes that incoming state param contains values not formatted\n",
    "# Maps state values to appropriate ranges and performs linear search\n",
    "def find_state(state):\n",
    "    new_state = state\n",
    "    new_state[0] = tenth_round(state[0])\n",
    "    new_state[1] = hund_round(state[1])\n",
    "\n",
    "    for i in range (285):\n",
    "        if(state_dict[i][0] == new_state[0]):\n",
    "            if(state_dict[i][1] == new_state[1]):\n",
    "                return i\n",
    "    # Returning -1 will flag that state was not found\n",
    "    return -1"
   ]
  },
  {
   "cell_type": "code",
   "execution_count": 10,
   "metadata": {},
   "outputs": [
    {
     "name": "stdout",
     "output_type": "stream",
     "text": [
      "\u001b[33mWARN: gym.spaces.Box autodetected dtype as <class 'numpy.float32'>. Please provide explicit dtype.\u001b[0m\n",
      "Timesteps taken: 200 with penalties: -200.0\n",
      "Timesteps taken: 200 with penalties: -200.0\n",
      "Timesteps taken: 200 with penalties: -200.0\n",
      "Timesteps taken: 200 with penalties: -200.0\n",
      "Timesteps taken: 200 with penalties: -200.0\n",
      "Timesteps taken: 200 with penalties: -200.0\n",
      "Timesteps taken: 200 with penalties: -200.0\n",
      "Timesteps taken: 200 with penalties: -200.0\n",
      "Timesteps taken: 200 with penalties: -200.0\n",
      "Timesteps taken: 200 with penalties: -200.0\n",
      "Results after 10 episodes:\n",
      "Average timesteps per episode: 200.0\n"
     ]
    }
   ],
   "source": [
    "## Random search\n",
    "import gym\n",
    "import time\n",
    "env = gym.make('MountainCar-v0')\n",
    "env.reset()\n",
    "num_episodes = 10\n",
    "total_epochs = 0\n",
    "for i in range(0, num_episodes):\n",
    "    epochs = 0\n",
    "    penalties = 0\n",
    "    env.reset()\n",
    "    while True:\n",
    "        # action_space.sample() returns a random action\n",
    "        action = env.action_space.sample()\n",
    "        # Test the random action\n",
    "        observation, reward, done, info = env.step(action)\n",
    "        penalties += reward\n",
    "        epochs += 1\n",
    "        if done:\n",
    "            break\n",
    "    total_epochs += epochs\n",
    "    print(\"Timesteps taken: {} with penalties: {}\".format(epochs, penalties))\n",
    "\n",
    "print(f\"Results after {num_episodes} episodes:\")\n",
    "print(f\"Average timesteps per episode: {total_epochs / num_episodes}\")"
   ]
  },
  {
   "cell_type": "code",
   "execution_count": null,
   "metadata": {
    "collapsed": true
   },
   "outputs": [],
   "source": []
  },
  {
   "cell_type": "code",
   "execution_count": 19,
   "metadata": {},
   "outputs": [
    {
     "name": "stdout",
     "output_type": "stream",
     "text": [
      "Episode: 900\n",
      "Training finished.\n",
      "\n",
      "Wall time: 14.6 s\n"
     ]
    }
   ],
   "source": [
    "%%time\n",
    "import gym\n",
    "import numpy as np\n",
    "import time\n",
    "import random\n",
    "from IPython.display import clear_output\n",
    "\n",
    "env = gym.make('MountainCar-v0')\n",
    "#Q Learning ---------------------------------------------\n",
    "\n",
    "#285 x 2 table for storing Q values\n",
    "q_table = np.zeros([285, 3])\n",
    "\n",
    "# Hyperparameters\n",
    "alpha = 0.1\n",
    "gamma = 0.6\n",
    "epsilon = 0.9\n",
    "\n",
    "# Train the agent for 1000 (or different) episodes\n",
    "for i in range(1000):\n",
    "    # Mountain car resets within a finite set of params\n",
    "    # Always starts at bottom of the hills\n",
    "    state = env.reset()\n",
    "    # Find our remapped state\n",
    "    current_state = find_state(state)\n",
    "    epochs, penalties, reward, = 0, 0, 0\n",
    "    done = False\n",
    "    \n",
    "    while not done:\n",
    "        #Assume that with high epsilon a random action will be selected more often\n",
    "        if random.uniform(0, 1) < epsilon:\n",
    "            action_index = np.random.randint(3, size=1) # Explore action space\n",
    "            action_index = int(action_index)\n",
    "        else:\n",
    "            # Select the highest weighted action from the Q Table\n",
    "            action_index = np.argmax(q_table[current_state]) # Exploit learned values\n",
    "    \n",
    "        next_state, reward, done, info = env.step(action_index)         \n",
    "        new_reward = next_state[0]/0.6 # max reward at position 0.6\n",
    "        future_state = find_state(next_state)\n",
    "        old_value = q_table[current_state, action_index]\n",
    "        future_max = np.max(q_table[future_state])\n",
    "        \n",
    "        # Q Learning algorithm\n",
    "        new_value = old_value + alpha * (new_reward + (gamma * future_max) - old_value)\n",
    "\n",
    "        q_table[current_state][action_index] = new_value\n",
    "        current_state = future_state\n",
    "        epochs += 1\n",
    "    \n",
    "    if i % 100 == 0:\n",
    "        clear_output(wait=True)\n",
    "        print(f\"Episode: {i}\")\n",
    "\n",
    "print(\"Training finished.\\n\")"
   ]
  },
  {
   "cell_type": "code",
   "execution_count": 17,
   "metadata": {},
   "outputs": [
    {
     "name": "stdout",
     "output_type": "stream",
     "text": [
      "Rows filled: 83\n"
     ]
    }
   ],
   "source": [
    "# Debuggin - check how many rows of Q Table were updated\n",
    "counter = 0\n",
    "for i in range(285):\n",
    "    if(q_table[i][0] != 0 or q_table[i][1] != 0 or q_table[i][2] != 0):\n",
    "        counter += 1\n",
    "        #print(\"Q-table[{}]: {} -> state_dict: {}\".format(i, q_table[i], state_dict[i]))\n",
    "print(\"Rows filled: {}\".format(counter))\n"
   ]
  },
  {
   "cell_type": "code",
   "execution_count": 15,
   "metadata": {},
   "outputs": [
    {
     "name": "stdout",
     "output_type": "stream",
     "text": [
      "Timesteps taken: 200 with penalties: -200.0\n",
      "Timesteps taken: 200 with penalties: -200.0\n",
      "Timesteps taken: 200 with penalties: -200.0\n",
      "Timesteps taken: 200 with penalties: -200.0\n",
      "Timesteps taken: 200 with penalties: -200.0\n",
      "Timesteps taken: 200 with penalties: -200.0\n",
      "Timesteps taken: 200 with penalties: -200.0\n",
      "Timesteps taken: 200 with penalties: -200.0\n",
      "Timesteps taken: 200 with penalties: -200.0\n",
      "Timesteps taken: 200 with penalties: -200.0\n",
      "Results after 10 episodes:\n",
      "Average timesteps per episode: 400.0\n"
     ]
    }
   ],
   "source": [
    "\"\"\"Evaluate agent's performance after Q-learning\"\"\"\n",
    "\n",
    "total_epochs, total_penalties, total_rewards = 0, 0, 0\n",
    "\n",
    "episodes = 10\n",
    "\n",
    "# For x episodes run the program, always selecting the Max element from the Q Table\n",
    "for _ in range(episodes):\n",
    "    state = env.reset()\n",
    "    new_state = find_state(state)\n",
    "    epochs, penalties, reward = 0, 0, 0\n",
    "    episode_reward = 0\n",
    "    done = False\n",
    "    epochs = 0\n",
    "    penalties = 0\n",
    "    while not done:\n",
    "        \n",
    "        action = np.argmax(q_table[new_state])\n",
    "        state, reward, done, info = env.step(action)\n",
    "        penalties += reward\n",
    "        epochs += 1\n",
    "\n",
    "    total_epochs += epochs\n",
    "    if(state[0] >= 0.4):\n",
    "        total_rewards += 1\n",
    "    total_epochs += epochs\n",
    "    print(\"Timesteps taken: {} with penalties: {}\".format(epochs, penalties))\n",
    "\n",
    "print(f\"Results after {num_episodes} episodes:\")\n",
    "print(f\"Average timesteps per episode: {total_epochs / num_episodes}\")"
   ]
  },
  {
   "cell_type": "code",
   "execution_count": null,
   "metadata": {
    "collapsed": true
   },
   "outputs": [],
   "source": []
  }
 ],
 "metadata": {
  "kernelspec": {
   "display_name": "Python 3",
   "language": "python",
   "name": "python3"
  },
  "language_info": {
   "codemirror_mode": {
    "name": "ipython",
    "version": 3
   },
   "file_extension": ".py",
   "mimetype": "text/x-python",
   "name": "python",
   "nbconvert_exporter": "python",
   "pygments_lexer": "ipython3",
   "version": "3.6.1"
  }
 },
 "nbformat": 4,
 "nbformat_minor": 2
}
