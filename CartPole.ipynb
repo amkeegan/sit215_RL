{
 "cells": [
  {
   "cell_type": "code",
   "execution_count": 56,
   "metadata": {},
   "outputs": [
    {
     "name": "stdout",
     "output_type": "stream",
     "text": [
      "0: [0.0, 0.1, 0.2, 0.3]\n",
      "1: [0.0, 0.1, 0.2, 0.4]\n",
      "2: [0.0, 0.1, 0.2, 0.5]\n",
      "3: [0.0, 0.1, 0.2, 0.6]\n",
      "4: [0.0, 0.1, 0.2, 0.7]\n",
      "5: [0.0, 0.1, 0.2, 0.8]\n",
      "6: [0.0, 0.1, 0.2, 0.9]\n",
      "7: [0.0, 0.1, 0.2, 1.0]\n",
      "8: [0.0, 0.1, 0.2, 1.1]\n",
      "9: [0.0, 0.1, 0.2, 1.2]\n",
      "10: [0.0, 0.1, 0.3, 0.3]\n",
      "11: [0.0, 0.1, 0.3, 0.4]\n",
      "12: [0.0, 0.1, 0.3, 0.5]\n",
      "13: [0.0, 0.1, 0.3, 0.6]\n",
      "14: [0.0, 0.1, 0.3, 0.7]\n",
      "15: [0.0, 0.1, 0.3, 0.8]\n",
      "16: [0.0, 0.1, 0.3, 0.9]\n",
      "17: [0.0, 0.1, 0.3, 1.0]\n",
      "18: [0.0, 0.1, 0.3, 1.1]\n",
      "19: [0.0, 0.1, 0.3, 1.2]\n",
      "20: [0.0, 0.1, 0.4, 0.3]\n",
      "21: [0.0, 0.1, 0.4, 0.4]\n"
     ]
    }
   ],
   "source": [
    "# function to round decimals to  one tenth\n",
    "def tenth_round(x):\n",
    "    return round(x*10)/10\n",
    "\n",
    "# State_dict is a dictionary of all possible states within the environment\n",
    "# Based on fidelity set below, this equates to 10000 states\n",
    "state_dict = {}\n",
    "state_dict[0]=[0,0,0,0]\n",
    "for i in range(0,10000):\n",
    "    state_dict[i]=[0,0,0,0]\n",
    "\n",
    "# Build the state dictionary.\n",
    "counter = 0\n",
    "i_div = 0\n",
    "# 10 divisions between 0 and 1 in 0.1 increments (Cart position)\n",
    "for i in range(10):\n",
    "    if (i_div == 1.1):\n",
    "        i_div = 0\n",
    "    j_div = 0.1\n",
    "    # 10 divisions between 0 and 1 in 0.1 increments (Cart velocity)\n",
    "    for j in range(10):\n",
    "        if (j_div == 1.1):\n",
    "            j_div = 0\n",
    "        k_div = 0.2\n",
    "        # 10 divisions between 0 and 1 in 0.1 increments (pole angle)\n",
    "        for k in range(10):\n",
    "            if (k_div == 1.1):\n",
    "                k_div = 0\n",
    "            l_div = 0.3\n",
    "            # 10 divisions between 0 and 1 in 0.1 increments (pole velocity)\n",
    "            for l in range(10):\n",
    "                if (l_div == 1.1):\n",
    "                    l_div = 0\n",
    "                state_dict[counter] = [tenth_round(i_div),tenth_round(j_div),tenth_round(k_div),tenth_round(l_div)]\n",
    "                #print(\"State {}: {}\".format(counter, state_dict[counter]))\n",
    "                l_div += 0.1\n",
    "                counter += 1\n",
    "                    \n",
    "            k_div += 0.1\n",
    "            \n",
    "        j_div += 0.1\n",
    "        \n",
    "    i_div += 0.1\n",
    "    \n",
    "# Method to Run a single episode of Cart Pole\n",
    "# Sourced from http://kvfrans.com/simple-algoritms-for-solving-cartpole/\n",
    "def run_episode(env, parameters):  \n",
    "    observation = env.reset()\n",
    "    #print(\"Observation: {}\".format(observation))\n",
    "    totalreward = 0\n",
    "    for _ in range(200):\n",
    "        action = 0 if np.matmul(parameters,observation) < 0 else 1\n",
    "        #print(\"Action: {}\".format(action))\n",
    "        observation, reward, done, info = env.step(action)\n",
    "        #env.render()\n",
    "        #time.sleep(0.01)\n",
    "        totalreward += reward\n",
    "        if done:\n",
    "            break\n",
    "    return totalreward\n",
    "\n",
    "# Method to remap numbers from one range to another\n",
    "import math\n",
    "def remap(x, in_min, in_max, out_min, out_max):    \n",
    "    return (x - in_min) * (out_max - out_min) / (in_max - in_min) + out_min\n",
    "\n",
    "# Method to find a state within the state_dict\n",
    "# Assumes that incoming state param contains values not formatted\n",
    "# Maps state values to appropriate ranges and performs linear search    \n",
    "def find_state(state):\n",
    "    new_state = state\n",
    "    new_state[0] = tenth_round(remap(state[0], -2.4,2.4,0,1))\n",
    "    new_state[1] = tenth_round(remap(state[1], -3.4*10**38, 3.4*10**38, 0, 1))\n",
    "    new_state[2] = tenth_round(remap(state[2], -0.5, 0.5, 0, 1))\n",
    "    new_state[3] = tenth_round(remap(state[3], -3.4*10**38,3.4*10**38,0,1))\n",
    "    \n",
    "    for i in range (10000):\n",
    "        if(state_dict[i][0] == new_state[0]):\n",
    "            if(state_dict[i][1] == new_state[1]):\n",
    "                if(state_dict[i][2] == new_state[2]):\n",
    "                    if(state_dict[i][3] == new_state[3]):\n",
    "                        return i\n",
    "    # Returning -1 will flag that state was not found\n",
    "    return -1"
   ]
  },
  {
   "cell_type": "code",
   "execution_count": null,
   "metadata": {},
   "outputs": [],
   "source": []
  },
  {
   "cell_type": "code",
   "execution_count": 11,
   "metadata": {
    "scrolled": false
   },
   "outputs": [
    {
     "name": "stdout",
     "output_type": "stream",
     "text": [
      "\u001b[33mWARN: gym.spaces.Box autodetected dtype as <class 'numpy.float32'>. Please provide explicit dtype.\u001b[0m\n",
      "Timesteps lasted: 91\n",
      "Timesteps lasted: 149\n",
      "Timesteps lasted: 11\n",
      "Timesteps lasted: 15\n",
      "Timesteps lasted: 9\n",
      "Timesteps lasted: 9\n",
      "Timesteps lasted: 10\n",
      "Timesteps lasted: 8\n",
      "Timesteps lasted: 9\n",
      "Timesteps lasted: 11\n",
      "Results after 10 episodes:\n",
      "Average timesteps per episode: 32.2\n"
     ]
    }
   ],
   "source": [
    "# Method to run a random episode\n",
    "# Sourced and modified from http://kvfrans.com/simple-algoritms-for-solving-cartpole/\n",
    "def run_random_episode(env, parameters): \n",
    "    epochs = 0\n",
    "    penalties = 0\n",
    "    observation = env.reset()\n",
    "    totalreward = 0\n",
    "    for _ in range(200):\n",
    "        action = 0 if np.matmul(parameters,observation) < 0 else 1\n",
    "        observation, reward, done, info = env.step(action)        \n",
    "        epochs += 1\n",
    "        totalreward += reward\n",
    "        if done:\n",
    "            break\n",
    "    return totalreward, epochs, penalties\n",
    "\n",
    "import gym\n",
    "import numpy as np\n",
    "import time\n",
    "\n",
    "env = gym.make(\"CartPole-v0\").env\n",
    "total_epochs, total_penalties, total_rewards = 0, 0, 0\n",
    "\n",
    "# Random search ------------------------------------------\n",
    "episodes = 10\n",
    "\n",
    "# Perform a random policy for x episodes\n",
    "for _ in range(episodes):\n",
    "    state = env.reset()\n",
    "    new_state = find_state(state)\n",
    "    epochs, penalties, reward = 0, 0, 0\n",
    "    \n",
    "    #Random Search\n",
    "    bestparams = None  \n",
    "    bestreward = 0  \n",
    "    counter = 0;\n",
    "    for _ in range(1):  \n",
    "        parameters = np.random.rand(4) * 2 - 1\n",
    "        reward, epochs, penalties = run_random_episode(env,parameters)\n",
    "        penalties = 200 - reward\n",
    "        total_penalties += penalties\n",
    "        total_rewards += reward\n",
    "        total_epochs += epochs\n",
    "        if reward > bestreward:\n",
    "            bestreward = reward\n",
    "            bestparams = parameters\n",
    "            # considered solved if the agent lasts 200 timesteps\n",
    "            if reward == 200:\n",
    "                break\n",
    "        counter += 1\n",
    "    print(\"Timesteps lasted: {}\".format(epochs))\n",
    "\n",
    "print(f\"Results after {episodes} episodes:\")\n",
    "print(f\"Average timesteps per episode: {total_epochs / episodes}\")"
   ]
  },
  {
   "cell_type": "code",
   "execution_count": null,
   "metadata": {
    "collapsed": true
   },
   "outputs": [],
   "source": []
  },
  {
   "cell_type": "code",
   "execution_count": null,
   "metadata": {
    "scrolled": true
   },
   "outputs": [],
   "source": []
  },
  {
   "cell_type": "code",
   "execution_count": null,
   "metadata": {
    "collapsed": true
   },
   "outputs": [],
   "source": []
  },
  {
   "cell_type": "code",
   "execution_count": null,
   "metadata": {
    "scrolled": true
   },
   "outputs": [],
   "source": []
  },
  {
   "cell_type": "code",
   "execution_count": null,
   "metadata": {
    "collapsed": true
   },
   "outputs": [],
   "source": []
  },
  {
   "cell_type": "code",
   "execution_count": null,
   "metadata": {},
   "outputs": [],
   "source": []
  },
  {
   "cell_type": "code",
   "execution_count": null,
   "metadata": {
    "scrolled": false
   },
   "outputs": [],
   "source": []
  },
  {
   "cell_type": "code",
   "execution_count": 63,
   "metadata": {
    "scrolled": false
   },
   "outputs": [
    {
     "name": "stdout",
     "output_type": "stream",
     "text": [
      "Episode: 990\n",
      "Training finished.\n",
      "\n",
      "Wall time: 36.5 s\n"
     ]
    }
   ],
   "source": [
    "%%time\n",
    "\n",
    "import gym\n",
    "import numpy as np\n",
    "import time\n",
    "\n",
    "env = gym.make(\"CartPole-v0\")\n",
    "\n",
    "#Q Learning -------------------------------------------\n",
    "import random\n",
    "from IPython.display import clear_output\n",
    "\n",
    "#10000 x 2 table for storing Q Values\n",
    "q_table = np.zeros([10000, 2])\n",
    "\n",
    "# Hyperparameters\n",
    "alpha = 0.1\n",
    "gamma = 0.6\n",
    "epsilon = 0.3\n",
    "\n",
    "# Perform agent learning for 1000 episodes. Currently executes in 30 seconds\n",
    "for i in range(1000):\n",
    "    # Get a new state, then find it in state_dict\n",
    "    state = env.reset()\n",
    "    current_state = find_state(state)\n",
    "    epochs, penalties, reward, = 0, 0, 0\n",
    "    done = False\n",
    "    \n",
    "    while not done:       \n",
    "        if random.uniform(0, 1) < epsilon:\n",
    "            action_index = np.random.randint(2, size=1) # Explore action space\n",
    "            action_index = int(action_index)\n",
    "        else:\n",
    "            action_index = np.argmax(q_table[current_state]) # Exploit learned values\n",
    "    \n",
    "        next_state, reward, done, info = env.step(action_index) \n",
    "        future_state = find_state(next_state)\n",
    "        old_value = q_table[current_state, action_index]\n",
    "        future_max = np.max(q_table[future_state])\n",
    "        \n",
    "        # Q Learning Algorithm\n",
    "        new_value = old_value + alpha * (reward + (gamma * future_max) - old_value)\n",
    "        \n",
    "        q_table[current_state][action_index] = new_value\n",
    "\n",
    "        current_state = future_state\n",
    "        epochs += 1\n",
    "           \n",
    "    if i % 10 == 0:\n",
    "        clear_output(wait=True)\n",
    "        print(f\"Episode: {i}\")      \n",
    "\n",
    "print(\"Training finished.\\n\")"
   ]
  },
  {
   "cell_type": "code",
   "execution_count": 64,
   "metadata": {},
   "outputs": [
    {
     "name": "stdout",
     "output_type": "stream",
     "text": [
      "Rows filled: 16\n"
     ]
    }
   ],
   "source": [
    "# Debuggin - check how many rows of Q Table were updated\n",
    "counter = 0\n",
    "for i in range(10000):\n",
    "    if(q_table[i][0] != 0 or q_table[i][1] != 0):\n",
    "        counter += 1\n",
    "        #print(\"Q-table[{}]: {} -> state_dict: {}\".format(i, q_table[i], state_dict[i]))\n",
    "print(\"Rows filled: {}\".format(counter))"
   ]
  },
  {
   "cell_type": "code",
   "execution_count": 65,
   "metadata": {},
   "outputs": [
    {
     "name": "stdout",
     "output_type": "stream",
     "text": [
      "Timesteps lasted: 10\n",
      "Timesteps lasted: 10\n",
      "Timesteps lasted: 10\n",
      "Timesteps lasted: 9\n",
      "Timesteps lasted: 9\n",
      "Timesteps lasted: 9\n",
      "Timesteps lasted: 9\n",
      "Timesteps lasted: 9\n",
      "Timesteps lasted: 9\n",
      "Timesteps lasted: 10\n",
      "Results after 10 episodes:\n",
      "Average timesteps per episode: 9.4\n"
     ]
    }
   ],
   "source": [
    "\"\"\"Evaluate agent's performance after Q-learning\"\"\"\n",
    "\n",
    "total_epochs, total_penalties, total_rewards = 0, 0, 0\n",
    "\n",
    "episodes = 10\n",
    "\n",
    "# For x episodes run the program, always selecting the Max element from the Q Table\n",
    "for _ in range(episodes):\n",
    "    state = env.reset()\n",
    "    new_state = find_state(state)\n",
    "    epochs, penalties, reward = 0, 0, 0\n",
    "    episode_reward = 0\n",
    "    done = False\n",
    "    \n",
    "    for i in range(200):\n",
    "        action = np.argmax(q_table[new_state])\n",
    "        state, reward, done, info = env.step(action)\n",
    "        episode_reward += reward       \n",
    "        epochs += 1\n",
    "        if done:\n",
    "            break\n",
    "            \n",
    "    total_penalties += (200 - episode_reward)        \n",
    "\n",
    "    total_epochs += epochs\n",
    "    total_rewards += episode_reward\n",
    "\n",
    "    print(\"Timesteps lasted: {}\".format(epochs))\n",
    "\n",
    "print(f\"Results after {episodes} episodes:\")\n",
    "print(f\"Average timesteps per episode: {total_epochs / episodes}\")"
   ]
  },
  {
   "cell_type": "code",
   "execution_count": null,
   "metadata": {
    "collapsed": true
   },
   "outputs": [],
   "source": []
  },
  {
   "cell_type": "code",
   "execution_count": null,
   "metadata": {
    "collapsed": true
   },
   "outputs": [],
   "source": []
  },
  {
   "cell_type": "code",
   "execution_count": null,
   "metadata": {
    "collapsed": true
   },
   "outputs": [],
   "source": []
  },
  {
   "cell_type": "code",
   "execution_count": null,
   "metadata": {
    "collapsed": true
   },
   "outputs": [],
   "source": []
  }
 ],
 "metadata": {
  "kernelspec": {
   "display_name": "Python 3",
   "language": "python",
   "name": "python3"
  },
  "language_info": {
   "codemirror_mode": {
    "name": "ipython",
    "version": 3
   },
   "file_extension": ".py",
   "mimetype": "text/x-python",
   "name": "python",
   "nbconvert_exporter": "python",
   "pygments_lexer": "ipython3",
   "version": "3.6.1"
  }
 },
 "nbformat": 4,
 "nbformat_minor": 2
}
